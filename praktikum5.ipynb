{
  "nbformat": 4,
  "nbformat_minor": 0,
  "metadata": {
    "colab": {
      "provenance": [],
      "authorship_tag": "ABX9TyNz34JyJCki57I2hZnL2Rdd",
      "include_colab_link": true
    },
    "kernelspec": {
      "name": "python3",
      "display_name": "Python 3"
    },
    "language_info": {
      "name": "python"
    }
  },
  "cells": [
    {
      "cell_type": "markdown",
      "metadata": {
        "id": "view-in-github",
        "colab_type": "text"
      },
      "source": [
        "<a href=\"https://colab.research.google.com/github/fatarmdhn-max/ddp/blob/main/praktikum5.ipynb\" target=\"_parent\"><img src=\"https://colab.research.google.com/assets/colab-badge.svg\" alt=\"Open In Colab\"/></a>"
      ]
    },
    {
      "cell_type": "code",
      "execution_count": null,
      "metadata": {
        "id": "3KJT8XC04Pt_"
      },
      "outputs": [],
      "source": [
        "namaKendaraan = \"Beat Ember\"\n",
        "jenisKendaraan = \"motor\"\n",
        "ccKendaraan = 200\n",
        "warnaKendaraan = \"hitam\"\n",
        "rodaKendaraan = 2\n",
        "\n",
        "data_kendaraan = [namaKendaraan, jenisKendaraan, ccKendaraan, warnaKendaraan,\n",
        "rodaKendaraan\n",
        "]\n",
        "print(data_kendaraan)\n",
        "\n",
        "hargaKendaraan = 5000\n",
        "tipeKendaraan = \"metic\"\n",
        "\n",
        "data_kendaraan.append(hargaKendaraan)\n",
        "data_kendaraan.append(tipeKendaraan)\n",
        "print(data_kendaraan)\n",
        "\n",
        "merkKendaraan = \"Honda\"\n",
        "data_kendaraan.insert(2, merkKendaraan)\n",
        "print(data_kendaraan)\n",
        "\n",
        "['Beat Ember', 'motor', 200, 'hitam', 2]"
      ]
    },
    {
      "cell_type": "code",
      "source": [
        "pilihan = input(\"\"\"\n",
        "silahkan pilih menu yang diinginkan\n",
        "====================\n",
        "1. luas persegi\n",
        "2. luas lingkaran\n",
        "3. luas segitiga\n",
        "====================\n",
        "kirimkan hanya angka saja,\n",
        "jawaban = \"\"\")\n",
        "\n",
        "print(type(pilihan))\n",
        "match pilihan :\n",
        " case \"1\" :\n",
        "    sisi = int(input(\"sisi = \"))\n",
        "    luas = sisi * sisi\n",
        "\n",
        "    print(f\"luas persegi dengan sisi{sisi} adalah {luas}\")\n",
        "    # luas persegi\n",
        " case \"2\":\n",
        "    # luas lingkaran\n",
        "    # phi * jarijari\n",
        "    print(\"\")\n",
        " case \"3\" :\n",
        "    # luas segitiga\n",
        "    # (alas * tinggi) /2\n",
        "    print(\"\")"
      ],
      "metadata": {
        "id": "cXh0V2uL9T52"
      },
      "execution_count": null,
      "outputs": []
    },
    {
      "cell_type": "code",
      "source": [
        "case 1:\n",
        " sisi int(input(\"masukan sisi\"))\n",
        " total = sisi * sisi\n",
        " print(\"luas persegi adalah \",total)\n",
        "case 2:\n",
        " jari int(input('masukan jari-jari \"))\n",
        " total = 3.14 * jari * jari\n",
        " print(\"luas lingkaran adalah\",total)\n",
        "case 3:\n",
        " alas int(input(\"masukan alas\"))\n",
        " tinggi = int(input(\"masukan tinggi \"))\n",
        "total = alas tinggi/2\n",
        "print(\"luas segitiga adalah \",total)\n",
        "case_:\n",
        "print(\"salah masukan input)"
      ],
      "metadata": {
        "id": "cqNpmIiQIqFx"
      },
      "execution_count": null,
      "outputs": []
    }
  ]
}