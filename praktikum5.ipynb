{
  "nbformat": 4,
  "nbformat_minor": 0,
  "metadata": {
    "colab": {
      "provenance": [],
      "authorship_tag": "ABX9TyOca1dPdsKHELvGCmb3dQ2l",
      "include_colab_link": true
    },
    "kernelspec": {
      "name": "python3",
      "display_name": "Python 3"
    },
    "language_info": {
      "name": "python"
    }
  },
  "cells": [
    {
      "cell_type": "markdown",
      "metadata": {
        "id": "view-in-github",
        "colab_type": "text"
      },
      "source": [
        "<a href=\"https://colab.research.google.com/github/fatarmdhn-max/ddp/blob/main/praktikum5.ipynb\" target=\"_parent\"><img src=\"https://colab.research.google.com/assets/colab-badge.svg\" alt=\"Open In Colab\"/></a>"
      ]
    },
    {
      "cell_type": "code",
      "execution_count": 1,
      "metadata": {
        "id": "3KJT8XC04Pt_",
        "colab": {
          "base_uri": "https://localhost:8080/"
        },
        "outputId": "5b08135c-bdfc-4b21-d699-8faafd1dbf39"
      },
      "outputs": [
        {
          "output_type": "stream",
          "name": "stdout",
          "text": [
            "['Beat Ember', 'motor', 200, 'hitam', 2]\n",
            "['Beat Ember', 'motor', 200, 'hitam', 2, 5000, 'metic']\n",
            "['Beat Ember', 'motor', 'Honda', 200, 'hitam', 2, 5000, 'metic']\n"
          ]
        },
        {
          "output_type": "execute_result",
          "data": {
            "text/plain": [
              "['Beat Ember', 'motor', 200, 'hitam', 2]"
            ]
          },
          "metadata": {},
          "execution_count": 1
        }
      ],
      "source": [
        "namaKendaraan = \"Beat Ember\"\n",
        "jenisKendaraan = \"motor\"\n",
        "ccKendaraan = 200\n",
        "warnaKendaraan = \"hitam\"\n",
        "rodaKendaraan = 2\n",
        "\n",
        "data_kendaraan = [namaKendaraan, jenisKendaraan, ccKendaraan, warnaKendaraan,\n",
        "rodaKendaraan\n",
        "]\n",
        "print(data_kendaraan)\n",
        "\n",
        "hargaKendaraan = 5000\n",
        "tipeKendaraan = \"metic\"\n",
        "\n",
        "data_kendaraan.append(hargaKendaraan)\n",
        "data_kendaraan.append(tipeKendaraan)\n",
        "print(data_kendaraan)\n",
        "\n",
        "merkKendaraan = \"Honda\"\n",
        "data_kendaraan.insert(2, merkKendaraan)\n",
        "print(data_kendaraan)\n",
        "\n",
        "['Beat Ember', 'motor', 200, 'hitam', 2]"
      ]
    },
    {
      "cell_type": "code",
      "source": [
        "pilihan = input(\"\"\"\n",
        "silahkan pilih menu yang diinginkan\n",
        "====================\n",
        "1. luas persegi\n",
        "2. luas lingkaran\n",
        "3. luas segitiga\n",
        "====================\n",
        "kirimkan hanya angka saja,\n",
        "jawaban = \"\"\")\n",
        "\n",
        "print(type(pilihan))\n",
        "match pilihan :\n",
        "    case \"1\" :\n",
        "         sisi = int(input(\"sisi = \"))\n",
        "         luas = sisi * sisi\n",
        "\n",
        "         print(f\"luas persegi dengan sisi {sisi} adalah {luas}\")\n",
        "         # luas persegi\n",
        "    case \"2\":\n",
        "         print(\"anda dapat memilih Luas Lingkaran silahkan isi data dibawah ini\")\n",
        "         jarijari = int(input(\"Jari jari = \"))\n",
        "         luas = 3.14 * jarijari * jarijari\n",
        "         print(f\"Luas lingkaran dengan jari-jari ({jarijari}) adalah {luas}\")\n",
        "         # luas lingkaran\n",
        "         # phi * jarijari**2\n",
        "    case \"3\" :\n",
        "         print(\"anda dapat memilih Luas Segitiga silahkan isi data dibawah ini\")\n",
        "         alas = int(input(\"alas =\"))\n",
        "         tinggi = int(input(\"tinggi =\"))\n",
        "         # luas segitiga\n",
        "         # (alas * tinggi) /2\n",
        "\n",
        "         print(f\"Luas Segitiga dengan alas {alas} * tinggi {tinggi} /2\")\n",
        "         #Luas Segitiga\n",
        "    case _:\n",
        "         print(\"kurang tau\")"
      ],
      "metadata": {
        "id": "cXh0V2uL9T52",
        "colab": {
          "base_uri": "https://localhost:8080/"
        },
        "outputId": "c48f87f4-1f49-480a-c518-507b252de4b9"
      },
      "execution_count": 24,
      "outputs": [
        {
          "output_type": "stream",
          "name": "stdout",
          "text": [
            "\n",
            "silahkan pilih menu yang diinginkan\n",
            "====================\n",
            "1. luas persegi\n",
            "2. luas lingkaran\n",
            "3. luas segitiga\n",
            "====================\n",
            "kirimkan hanya angka saja,\n",
            "jawaban = 1\n",
            "<class 'str'>\n",
            "sisi = 10\n",
            "luas persegi dengan sisi 10 adalah 100\n"
          ]
        }
      ]
    },
    {
      "cell_type": "code",
      "source": [
        "case 1:\n",
        " sisi int(input(\"masukan sisi\"))\n",
        " total = sisi * sisi\n",
        " print(\"luas persegi adalah \",total)\n",
        "case 2:\n",
        " jari int(input('masukan jari-jari \"))\n",
        " total = 3.14 * jari * jari\n",
        " print(\"luas lingkaran adalah\",total)\n",
        "case 3:\n",
        " alas int(input(\"masukan alas\"))\n",
        " tinggi = int(input(\"masukan tinggi \"))\n",
        "total = alas tinggi/2\n",
        "print(\"luas segitiga adalah \",total)\n",
        "case_:\n",
        "print(\"salah masukan input)"
      ],
      "metadata": {
        "id": "cqNpmIiQIqFx",
        "colab": {
          "base_uri": "https://localhost:8080/",
          "height": 176
        },
        "outputId": "fac43919-10bc-4654-8837-fa8fb51361fa"
      },
      "execution_count": 17,
      "outputs": [
        {
          "output_type": "error",
          "ename": "SyntaxError",
          "evalue": "unterminated string literal (detected at line 6) (ipython-input-3588525157.py, line 6)",
          "traceback": [
            "\u001b[0;36m  File \u001b[0;32m\"/tmp/ipython-input-3588525157.py\"\u001b[0;36m, line \u001b[0;32m6\u001b[0m\n\u001b[0;31m    jari int(input('masukan jari-jari \"))\u001b[0m\n\u001b[0m                   ^\u001b[0m\n\u001b[0;31mSyntaxError\u001b[0m\u001b[0;31m:\u001b[0m unterminated string literal (detected at line 6)\n"
          ]
        }
      ]
    }
  ]
}